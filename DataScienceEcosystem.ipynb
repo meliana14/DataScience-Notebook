{
  "metadata": {
    "kernelspec": {
      "name": "python",
      "display_name": "Python (Pyodide)",
      "language": "python"
    },
    "language_info": {
      "codemirror_mode": {
        "name": "python",
        "version": 3
      },
      "file_extension": ".py",
      "mimetype": "text/x-python",
      "name": "python",
      "nbconvert_exporter": "python",
      "pygments_lexer": "ipython3",
      "version": "3.8"
    }
  },
  "nbformat_minor": 5,
  "nbformat": 4,
  "cells": [
    {
      "id": "2019678b-f53e-470c-a96e-2773d5c59829",
      "cell_type": "code",
      "source": "# Exercise 2: \nfrom IPython.display import Markdown, display\ndisplay(Markdown(\"# Data Science Tools and Ecosystem\"))",
      "metadata": {
        "trusted": true
      },
      "outputs": [
        {
          "output_type": "display_data",
          "data": {
            "text/plain": "<IPython.core.display.Markdown object>",
            "text/markdown": "# Data Science Tools and Ecosystem"
          },
          "metadata": {}
        }
      ],
      "execution_count": 15
    },
    {
      "id": "778319e2-ca29-4b60-9b9e-a53b345b51b9",
      "cell_type": "code",
      "source": "# Exercise 3: Markdown Cell for Introduction\ndisplay(Markdown(\"# In this notebook, Data Science Tools and Ecosystem are summarized.\"))",
      "metadata": {
        "trusted": true
      },
      "outputs": [
        {
          "output_type": "display_data",
          "data": {
            "text/plain": "<IPython.core.display.Markdown object>",
            "text/markdown": "# In this notebook, Data Science Tools and Ecosystem are summarized."
          },
          "metadata": {}
        }
      ],
      "execution_count": 16
    },
    {
      "id": "d40a63a0-75a4-42fa-96c8-b72c287b7ea0",
      "cell_type": "code",
      "source": "# Exercise 4: Markdown Cell to List Data Science Languages\ndisplay(Markdown(\"\"\"# Some of the popular languages that Data Scientists use are:\n1. Python\n2. R\n3. SQL\n\"\"\"))",
      "metadata": {
        "trusted": true
      },
      "outputs": [
        {
          "output_type": "display_data",
          "data": {
            "text/plain": "<IPython.core.display.Markdown object>",
            "text/markdown": "# Some of the popular languages that Data Scientists use are:\n1. Python\n2. R\n3. SQL\n"
          },
          "metadata": {}
        }
      ],
      "execution_count": 21
    },
    {
      "id": "4b6eafcd-6cf9-4d39-8152-3e08bcf11026",
      "cell_type": "code",
      "source": "# Exercise 5: Markdown Cell to List Data Science Libraries\nfrom IPython.display import Markdown, display\ndisplay(Markdown(\"\"\"\nSome of the commonly used libraries used by Data Scientists include:\n1. Pandas\n2. NumPy\n3. Scikit-Learn\n\"\"\"))\n\n",
      "metadata": {
        "trusted": true
      },
      "outputs": [
        {
          "output_type": "display_data",
          "data": {
            "text/plain": "<IPython.core.display.Markdown object>",
            "text/markdown": "\nSome of the commonly used libraries used by Data Scientists include:\n1. Pandas\n2. NumPy\n3. Scikit-Learn\n"
          },
          "metadata": {}
        }
      ],
      "execution_count": 22
    },
    {
      "id": "f1f2eee4-e8a5-4214-8c58-8731d2fcac8b",
      "cell_type": "code",
      "source": "# Exercise 6: Markdown Cell with a Table of Data Science Tools\nfrom IPython.display import Markdown, display\ndisplay(Markdown(\"\"\"\n| Data Science Tools  |\n|---------------------|\n| Jupyter Notebook    |\n| RStudio             |\n| Spyder              |\n\"\"\"))\n",
      "metadata": {
        "trusted": true
      },
      "outputs": [
        {
          "output_type": "display_data",
          "data": {
            "text/plain": "<IPython.core.display.Markdown object>",
            "text/markdown": "\n| Data Science Tools  |\n|---------------------|\n| Jupyter Notebook    |\n| RStudio             |\n| Spyder              |\n"
          },
          "metadata": {}
        }
      ],
      "execution_count": 23
    },
    {
      "id": "24517dfa-6466-40b4-beb5-2ff98628cafb",
      "cell_type": "code",
      "source": "# Exercise 7: Markdown Cell for Arithmetic Expressions\nfrom IPython.display import Markdown, display\ndisplay(Markdown(\"### Below are a few examples of evaluating arithmetic expressions in Python.\"))\n",
      "metadata": {
        "trusted": true
      },
      "outputs": [
        {
          "output_type": "display_data",
          "data": {
            "text/plain": "<IPython.core.display.Markdown object>",
            "text/markdown": "### Below are a few examples of evaluating arithmetic expressions in Python."
          },
          "metadata": {}
        }
      ],
      "execution_count": 24
    },
    {
      "id": "d66225c8-1eaf-46d4-9535-99aa80ecb6c6",
      "cell_type": "code",
      "source": "# Exercise 8: Code Cell to Multiply and Add Numbers\n# This is a simple arithmetic expression to multiply then add integers.\nresult = (3 * 4) + 5\nprint(result)\n",
      "metadata": {
        "trusted": true
      },
      "outputs": [
        {
          "name": "stdout",
          "output_type": "stream",
          "text": "17\n"
        }
      ],
      "execution_count": 25
    },
    {
      "id": "67e940b2-ac1c-4c34-8298-6f96e348938f",
      "cell_type": "code",
      "source": "# Exercise 9: Code Cell to Convert Minutes to Hours\n# This will convert 200 minutes to hours by dividing by 60.\nhours = 200 / 60\nprint(hours)\n",
      "metadata": {
        "trusted": true
      },
      "outputs": [
        {
          "name": "stdout",
          "output_type": "stream",
          "text": "3.3333333333333335\n"
        }
      ],
      "execution_count": 26
    },
    {
      "id": "0de089b3-173b-48ba-a246-20812474a248",
      "cell_type": "code",
      "source": "# Exercise 10: Markdown Cell for Objectives\nfrom IPython.display import Markdown, display\ndisplay(Markdown(\"\"\"\n**Objectives:**\n\n- List popular languages for Data Science.\n- Identify commonly used data science libraries.\n- Understand key tools and environments in data science.\n- Explore arithmetic operations in Python.\n\"\"\"))\n",
      "metadata": {
        "trusted": true
      },
      "outputs": [
        {
          "output_type": "display_data",
          "data": {
            "text/plain": "<IPython.core.display.Markdown object>",
            "text/markdown": "\n**Objectives:**\n\n- List popular languages for Data Science.\n- Identify commonly used data science libraries.\n- Understand key tools and environments in data science.\n- Explore arithmetic operations in Python.\n"
          },
          "metadata": {}
        }
      ],
      "execution_count": 27
    },
    {
      "id": "fe7d7713-a909-490c-ad36-fba7700862e3",
      "cell_type": "code",
      "source": "# Exercise 11: Markdown Cell for Author Name\n\"\"\"\n## Author\nMeliana Atmika\n\"\"\"\n",
      "metadata": {
        "trusted": true
      },
      "outputs": [
        {
          "execution_count": 11,
          "output_type": "execute_result",
          "data": {
            "text/plain": "'\\n## Author\\nMeliana Atmika\\n'"
          },
          "metadata": {}
        }
      ],
      "execution_count": 11
    },
    {
      "id": "7986ea2e-ec9a-4655-b5ac-ee9ba5f120ef",
      "cell_type": "code",
      "source": "",
      "metadata": {
        "trusted": true
      },
      "outputs": [],
      "execution_count": null
    }
  ]
}